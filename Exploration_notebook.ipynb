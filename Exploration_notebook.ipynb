{
 "cells": [
  {
   "cell_type": "code",
   "execution_count": 6,
   "metadata": {},
   "outputs": [],
   "source": [
    "import torch\n",
    "from nilearn import connectome\n",
    "from nilearn.datasets import fetch_abide_pcp\n",
    "import pandas as pd"
   ]
  },
  {
   "cell_type": "code",
   "execution_count": null,
   "metadata": {},
   "outputs": [],
   "source": [
    "EXEC = False        # Turn to True if you download the dataset for the first time\n",
    "\n",
    "if EXEC : \n",
    "    abide_data_dir = './data/' + 'ABIDE_dataset'       \n",
    "    num_subjects = 871       # Number of subjects for the ABIDE dataset\n",
    "\n",
    "\n",
    "    abide_data = fetch_abide_pcp(data_dir = abide_data_dir,\n",
    "                                n_subjects = num_subjects, \n",
    "                                pipeline = 'cpac',\n",
    "                                derivatives = ['rois_ho'], \n",
    "                                quality_checked = True, \n",
    "                                verbose = 1,\n",
    "                                band_pass_filtering = True)"
   ]
  },
  {
   "cell_type": "code",
   "execution_count": 10,
   "metadata": {},
   "outputs": [],
   "source": [
    "phenotypic_data = pd.read_csv('data/ABIDE_dataset/ABIDE_pcp/Phenotypic_V1_0b_preprocessed1.csv')"
   ]
  }
 ],
 "metadata": {
  "kernelspec": {
   "display_name": "Python 3",
   "language": "python",
   "name": "python3"
  },
  "language_info": {
   "codemirror_mode": {
    "name": "ipython",
    "version": 3
   },
   "file_extension": ".py",
   "mimetype": "text/x-python",
   "name": "python",
   "nbconvert_exporter": "python",
   "pygments_lexer": "ipython3",
   "version": "3.11.5"
  }
 },
 "nbformat": 4,
 "nbformat_minor": 2
}
